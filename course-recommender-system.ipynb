{
 "cells": [
  {
   "cell_type": "code",
   "execution_count": 1,
   "id": "c9deb489",
   "metadata": {
    "_cell_guid": "b1076dfc-b9ad-4769-8c92-a6c4dae69d19",
    "_uuid": "8f2839f25d086af736a60e9eeb907d3b93b6e0e5",
    "execution": {
     "iopub.execute_input": "2022-05-29T17:41:39.330318Z",
     "iopub.status.busy": "2022-05-29T17:41:39.329663Z",
     "iopub.status.idle": "2022-05-29T17:41:40.355352Z",
     "shell.execute_reply": "2022-05-29T17:41:40.354403Z"
    },
    "papermill": {
     "duration": 1.041003,
     "end_time": "2022-05-29T17:41:40.358409",
     "exception": false,
     "start_time": "2022-05-29T17:41:39.317406",
     "status": "completed"
    },
    "tags": []
   },
   "outputs": [
    {
     "name": "stdout",
     "output_type": "stream",
     "text": [
      "Dependencies Imported\n"
     ]
    }
   ],
   "source": [
    "import os\n",
    "import numpy as np\n",
    "import pandas as pd\n",
    "import matplotlib.pyplot as plt\n",
    "import seaborn as sns\n",
    "print('Dependencies Imported')"
   ]
  },
  {
   "cell_type": "code",
   "execution_count": 2,
   "id": "45815053",
   "metadata": {
    "execution": {
     "iopub.execute_input": "2022-05-29T17:41:40.379282Z",
     "iopub.status.busy": "2022-05-29T17:41:40.378868Z",
     "iopub.status.idle": "2022-05-29T17:41:40.579562Z",
     "shell.execute_reply": "2022-05-29T17:41:40.578660Z"
    },
    "papermill": {
     "duration": 0.213577,
     "end_time": "2022-05-29T17:41:40.581892",
     "exception": false,
     "start_time": "2022-05-29T17:41:40.368315",
     "status": "completed"
    },
    "tags": []
   },
   "outputs": [
    {
     "data": {
      "text/html": [
       "<div>\n",
       "<style scoped>\n",
       "    .dataframe tbody tr th:only-of-type {\n",
       "        vertical-align: middle;\n",
       "    }\n",
       "\n",
       "    .dataframe tbody tr th {\n",
       "        vertical-align: top;\n",
       "    }\n",
       "\n",
       "    .dataframe thead th {\n",
       "        text-align: right;\n",
       "    }\n",
       "</style>\n",
       "<table border=\"1\" class=\"dataframe\">\n",
       "  <thead>\n",
       "    <tr style=\"text-align: right;\">\n",
       "      <th></th>\n",
       "      <th>Course Name</th>\n",
       "      <th>University</th>\n",
       "      <th>Difficulty Level</th>\n",
       "      <th>Course Rating</th>\n",
       "      <th>Course URL</th>\n",
       "      <th>Course Description</th>\n",
       "      <th>Skills</th>\n",
       "    </tr>\n",
       "  </thead>\n",
       "  <tbody>\n",
       "    <tr>\n",
       "      <th>0</th>\n",
       "      <td>Write A Feature Length Screenplay For Film Or ...</td>\n",
       "      <td>Michigan State University</td>\n",
       "      <td>Beginner</td>\n",
       "      <td>4.8</td>\n",
       "      <td>https://www.coursera.org/learn/write-a-feature...</td>\n",
       "      <td>Write a Full Length Feature Film Script  In th...</td>\n",
       "      <td>Drama  Comedy  peering  screenwriting  film  D...</td>\n",
       "    </tr>\n",
       "    <tr>\n",
       "      <th>1</th>\n",
       "      <td>Business Strategy: Business Model Canvas Analy...</td>\n",
       "      <td>Coursera Project Network</td>\n",
       "      <td>Beginner</td>\n",
       "      <td>4.8</td>\n",
       "      <td>https://www.coursera.org/learn/canvas-analysis...</td>\n",
       "      <td>By the end of this guided project, you will be...</td>\n",
       "      <td>Finance  business plan  persona (user experien...</td>\n",
       "    </tr>\n",
       "    <tr>\n",
       "      <th>2</th>\n",
       "      <td>Silicon Thin Film Solar Cells</td>\n",
       "      <td>�cole Polytechnique</td>\n",
       "      <td>Advanced</td>\n",
       "      <td>4.1</td>\n",
       "      <td>https://www.coursera.org/learn/silicon-thin-fi...</td>\n",
       "      <td>This course consists of a general presentation...</td>\n",
       "      <td>chemistry  physics  Solar Energy  film  lambda...</td>\n",
       "    </tr>\n",
       "    <tr>\n",
       "      <th>3</th>\n",
       "      <td>Finance for Managers</td>\n",
       "      <td>IESE Business School</td>\n",
       "      <td>Intermediate</td>\n",
       "      <td>4.8</td>\n",
       "      <td>https://www.coursera.org/learn/operational-fin...</td>\n",
       "      <td>When it comes to numbers, there is always more...</td>\n",
       "      <td>accounts receivable  dupont analysis  analysis...</td>\n",
       "    </tr>\n",
       "    <tr>\n",
       "      <th>4</th>\n",
       "      <td>Retrieve Data using Single-Table SQL Queries</td>\n",
       "      <td>Coursera Project Network</td>\n",
       "      <td>Beginner</td>\n",
       "      <td>4.6</td>\n",
       "      <td>https://www.coursera.org/learn/single-table-sq...</td>\n",
       "      <td>In this course you�ll learn how to effectively...</td>\n",
       "      <td>Data Analysis  select (sql)  database manageme...</td>\n",
       "    </tr>\n",
       "    <tr>\n",
       "      <th>5</th>\n",
       "      <td>Building Test Automation Framework using Selen...</td>\n",
       "      <td>Coursera Project Network</td>\n",
       "      <td>Beginner</td>\n",
       "      <td>4.7</td>\n",
       "      <td>https://www.coursera.org/learn/building-test-a...</td>\n",
       "      <td>Selenium is one of the most widely used functi...</td>\n",
       "      <td>maintenance  test case  test automation  scree...</td>\n",
       "    </tr>\n",
       "    <tr>\n",
       "      <th>6</th>\n",
       "      <td>Doing Business in China Capstone</td>\n",
       "      <td>The Chinese University of Hong Kong</td>\n",
       "      <td>Advanced</td>\n",
       "      <td>3.3</td>\n",
       "      <td>https://www.coursera.org/learn/doing-business-...</td>\n",
       "      <td>Doing Business in China Capstone enables you t...</td>\n",
       "      <td>marketing plan  Planning  Marketing  consumpti...</td>\n",
       "    </tr>\n",
       "    <tr>\n",
       "      <th>7</th>\n",
       "      <td>Programming Languages, Part A</td>\n",
       "      <td>University of Washington</td>\n",
       "      <td>Intermediate</td>\n",
       "      <td>4.9</td>\n",
       "      <td>https://www.coursera.org/learn/programming-lan...</td>\n",
       "      <td>This course is an introduction to the basic co...</td>\n",
       "      <td>inference  ml (programming language)  higher-o...</td>\n",
       "    </tr>\n",
       "    <tr>\n",
       "      <th>8</th>\n",
       "      <td>The Roles and Responsibilities of Nonprofit Bo...</td>\n",
       "      <td>The State University of New York</td>\n",
       "      <td>Intermediate</td>\n",
       "      <td>4.3</td>\n",
       "      <td>https://www.coursera.org/learn/nonprofit-gov-2</td>\n",
       "      <td>This course provides a more in-depth look at t...</td>\n",
       "      <td>Planning  Peer Review  fundraising  strategic ...</td>\n",
       "    </tr>\n",
       "    <tr>\n",
       "      <th>9</th>\n",
       "      <td>Business Russian Communication. Part 3</td>\n",
       "      <td>Saint Petersburg State University</td>\n",
       "      <td>Intermediate</td>\n",
       "      <td>Not Calibrated</td>\n",
       "      <td>https://www.coursera.org/learn/business-russia...</td>\n",
       "      <td>Russian is considered to be one of the most di...</td>\n",
       "      <td>Russian  market (economics)  tax exemption  co...</td>\n",
       "    </tr>\n",
       "  </tbody>\n",
       "</table>\n",
       "</div>"
      ],
      "text/plain": [
       "                                         Course Name  \\\n",
       "0  Write A Feature Length Screenplay For Film Or ...   \n",
       "1  Business Strategy: Business Model Canvas Analy...   \n",
       "2                      Silicon Thin Film Solar Cells   \n",
       "3                               Finance for Managers   \n",
       "4       Retrieve Data using Single-Table SQL Queries   \n",
       "5  Building Test Automation Framework using Selen...   \n",
       "6                   Doing Business in China Capstone   \n",
       "7                      Programming Languages, Part A   \n",
       "8  The Roles and Responsibilities of Nonprofit Bo...   \n",
       "9             Business Russian Communication. Part 3   \n",
       "\n",
       "                            University Difficulty Level   Course Rating  \\\n",
       "0            Michigan State University         Beginner             4.8   \n",
       "1             Coursera Project Network         Beginner             4.8   \n",
       "2                  �cole Polytechnique         Advanced             4.1   \n",
       "3                 IESE Business School     Intermediate             4.8   \n",
       "4             Coursera Project Network         Beginner             4.6   \n",
       "5             Coursera Project Network         Beginner             4.7   \n",
       "6  The Chinese University of Hong Kong         Advanced             3.3   \n",
       "7             University of Washington     Intermediate             4.9   \n",
       "8     The State University of New York     Intermediate             4.3   \n",
       "9    Saint Petersburg State University     Intermediate  Not Calibrated   \n",
       "\n",
       "                                          Course URL  \\\n",
       "0  https://www.coursera.org/learn/write-a-feature...   \n",
       "1  https://www.coursera.org/learn/canvas-analysis...   \n",
       "2  https://www.coursera.org/learn/silicon-thin-fi...   \n",
       "3  https://www.coursera.org/learn/operational-fin...   \n",
       "4  https://www.coursera.org/learn/single-table-sq...   \n",
       "5  https://www.coursera.org/learn/building-test-a...   \n",
       "6  https://www.coursera.org/learn/doing-business-...   \n",
       "7  https://www.coursera.org/learn/programming-lan...   \n",
       "8     https://www.coursera.org/learn/nonprofit-gov-2   \n",
       "9  https://www.coursera.org/learn/business-russia...   \n",
       "\n",
       "                                  Course Description  \\\n",
       "0  Write a Full Length Feature Film Script  In th...   \n",
       "1  By the end of this guided project, you will be...   \n",
       "2  This course consists of a general presentation...   \n",
       "3  When it comes to numbers, there is always more...   \n",
       "4  In this course you�ll learn how to effectively...   \n",
       "5  Selenium is one of the most widely used functi...   \n",
       "6  Doing Business in China Capstone enables you t...   \n",
       "7  This course is an introduction to the basic co...   \n",
       "8  This course provides a more in-depth look at t...   \n",
       "9  Russian is considered to be one of the most di...   \n",
       "\n",
       "                                              Skills  \n",
       "0  Drama  Comedy  peering  screenwriting  film  D...  \n",
       "1  Finance  business plan  persona (user experien...  \n",
       "2  chemistry  physics  Solar Energy  film  lambda...  \n",
       "3  accounts receivable  dupont analysis  analysis...  \n",
       "4  Data Analysis  select (sql)  database manageme...  \n",
       "5  maintenance  test case  test automation  scree...  \n",
       "6  marketing plan  Planning  Marketing  consumpti...  \n",
       "7  inference  ml (programming language)  higher-o...  \n",
       "8  Planning  Peer Review  fundraising  strategic ...  \n",
       "9  Russian  market (economics)  tax exemption  co...  "
      ]
     },
     "execution_count": 2,
     "metadata": {},
     "output_type": "execute_result"
    }
   ],
   "source": [
    "data = pd.read_csv(\"../input/coursera-courses-dataset-2021/Coursera.csv\")\n",
    "data.head(10)"
   ]
  },
  {
   "cell_type": "code",
   "execution_count": 3,
   "id": "9ad21443",
   "metadata": {
    "execution": {
     "iopub.execute_input": "2022-05-29T17:41:40.604548Z",
     "iopub.status.busy": "2022-05-29T17:41:40.604194Z",
     "iopub.status.idle": "2022-05-29T17:41:40.609842Z",
     "shell.execute_reply": "2022-05-29T17:41:40.609007Z"
    },
    "papermill": {
     "duration": 0.019421,
     "end_time": "2022-05-29T17:41:40.611784",
     "exception": false,
     "start_time": "2022-05-29T17:41:40.592363",
     "status": "completed"
    },
    "tags": []
   },
   "outputs": [
    {
     "data": {
      "text/plain": [
       "(3522, 7)"
      ]
     },
     "execution_count": 3,
     "metadata": {},
     "output_type": "execute_result"
    }
   ],
   "source": [
    "data.shape"
   ]
  },
  {
   "cell_type": "code",
   "execution_count": 4,
   "id": "e4b9663d",
   "metadata": {
    "execution": {
     "iopub.execute_input": "2022-05-29T17:41:40.633157Z",
     "iopub.status.busy": "2022-05-29T17:41:40.632836Z",
     "iopub.status.idle": "2022-05-29T17:41:40.656951Z",
     "shell.execute_reply": "2022-05-29T17:41:40.656034Z"
    },
    "papermill": {
     "duration": 0.037015,
     "end_time": "2022-05-29T17:41:40.658890",
     "exception": false,
     "start_time": "2022-05-29T17:41:40.621875",
     "status": "completed"
    },
    "tags": []
   },
   "outputs": [
    {
     "name": "stdout",
     "output_type": "stream",
     "text": [
      "<class 'pandas.core.frame.DataFrame'>\n",
      "RangeIndex: 3522 entries, 0 to 3521\n",
      "Data columns (total 7 columns):\n",
      " #   Column              Non-Null Count  Dtype \n",
      "---  ------              --------------  ----- \n",
      " 0   Course Name         3522 non-null   object\n",
      " 1   University          3522 non-null   object\n",
      " 2   Difficulty Level    3522 non-null   object\n",
      " 3   Course Rating       3522 non-null   object\n",
      " 4   Course URL          3522 non-null   object\n",
      " 5   Course Description  3522 non-null   object\n",
      " 6   Skills              3522 non-null   object\n",
      "dtypes: object(7)\n",
      "memory usage: 192.7+ KB\n"
     ]
    }
   ],
   "source": [
    "data.info()"
   ]
  },
  {
   "cell_type": "code",
   "execution_count": 5,
   "id": "a1df231c",
   "metadata": {
    "execution": {
     "iopub.execute_input": "2022-05-29T17:41:40.680406Z",
     "iopub.status.busy": "2022-05-29T17:41:40.680003Z",
     "iopub.status.idle": "2022-05-29T17:41:40.691215Z",
     "shell.execute_reply": "2022-05-29T17:41:40.690194Z"
    },
    "papermill": {
     "duration": 0.02411,
     "end_time": "2022-05-29T17:41:40.693123",
     "exception": false,
     "start_time": "2022-05-29T17:41:40.669013",
     "status": "completed"
    },
    "tags": []
   },
   "outputs": [
    {
     "data": {
      "text/plain": [
       "Course Name           0\n",
       "University            0\n",
       "Difficulty Level      0\n",
       "Course Rating         0\n",
       "Course URL            0\n",
       "Course Description    0\n",
       "Skills                0\n",
       "dtype: int64"
      ]
     },
     "execution_count": 5,
     "metadata": {},
     "output_type": "execute_result"
    }
   ],
   "source": [
    "data.isnull().sum()"
   ]
  },
  {
   "cell_type": "code",
   "execution_count": 6,
   "id": "f7f201aa",
   "metadata": {
    "execution": {
     "iopub.execute_input": "2022-05-29T17:41:40.716475Z",
     "iopub.status.busy": "2022-05-29T17:41:40.715691Z",
     "iopub.status.idle": "2022-05-29T17:41:40.722804Z",
     "shell.execute_reply": "2022-05-29T17:41:40.722184Z"
    },
    "papermill": {
     "duration": 0.021321,
     "end_time": "2022-05-29T17:41:40.724765",
     "exception": false,
     "start_time": "2022-05-29T17:41:40.703444",
     "status": "completed"
    },
    "tags": []
   },
   "outputs": [
    {
     "data": {
      "text/plain": [
       "Beginner          1444\n",
       "Advanced          1005\n",
       "Intermediate       837\n",
       "Conversant         186\n",
       "Not Calibrated      50\n",
       "Name: Difficulty Level, dtype: int64"
      ]
     },
     "execution_count": 6,
     "metadata": {},
     "output_type": "execute_result"
    }
   ],
   "source": [
    "data['Difficulty Level'].value_counts()"
   ]
  },
  {
   "cell_type": "code",
   "execution_count": 7,
   "id": "9c9b5db8",
   "metadata": {
    "execution": {
     "iopub.execute_input": "2022-05-29T17:41:40.746853Z",
     "iopub.status.busy": "2022-05-29T17:41:40.746360Z",
     "iopub.status.idle": "2022-05-29T17:41:40.753457Z",
     "shell.execute_reply": "2022-05-29T17:41:40.752754Z"
    },
    "papermill": {
     "duration": 0.020063,
     "end_time": "2022-05-29T17:41:40.755127",
     "exception": false,
     "start_time": "2022-05-29T17:41:40.735064",
     "status": "completed"
    },
    "tags": []
   },
   "outputs": [
    {
     "data": {
      "text/plain": [
       "4.7               740\n",
       "4.6               623\n",
       "4.8               598\n",
       "4.5               389\n",
       "4.4               242\n",
       "4.9               180\n",
       "4.3               165\n",
       "4.2               121\n",
       "5                  90\n",
       "4.1                85\n",
       "Not Calibrated     82\n",
       "4                  51\n",
       "3.8                24\n",
       "3.9                20\n",
       "3.6                18\n",
       "3.7                18\n",
       "3.5                17\n",
       "3.4                13\n",
       "3                  12\n",
       "3.2                 9\n",
       "3.3                 6\n",
       "2.9                 6\n",
       "2.6                 2\n",
       "2.8                 2\n",
       "2.4                 2\n",
       "1                   2\n",
       "2                   1\n",
       "3.1                 1\n",
       "2.5                 1\n",
       "1.9                 1\n",
       "2.3                 1\n",
       "Name: Course Rating, dtype: int64"
      ]
     },
     "execution_count": 7,
     "metadata": {},
     "output_type": "execute_result"
    }
   ],
   "source": [
    "data['Course Rating'].value_counts()"
   ]
  },
  {
   "cell_type": "code",
   "execution_count": 8,
   "id": "fda811e0",
   "metadata": {
    "execution": {
     "iopub.execute_input": "2022-05-29T17:41:40.777694Z",
     "iopub.status.busy": "2022-05-29T17:41:40.777215Z",
     "iopub.status.idle": "2022-05-29T17:41:40.784528Z",
     "shell.execute_reply": "2022-05-29T17:41:40.783991Z"
    },
    "papermill": {
     "duration": 0.020405,
     "end_time": "2022-05-29T17:41:40.786193",
     "exception": false,
     "start_time": "2022-05-29T17:41:40.765788",
     "status": "completed"
    },
    "tags": []
   },
   "outputs": [
    {
     "data": {
      "text/plain": [
       "Coursera Project Network                      562\n",
       "University of Illinois at Urbana-Champaign    138\n",
       "Johns Hopkins University                      110\n",
       "University of Michigan                        101\n",
       "University of Colorado Boulder                101\n",
       "                                             ... \n",
       "GitLab                                          1\n",
       "Yeshiva University                              1\n",
       "University of Glasgow                           1\n",
       "Laureate Education                              1\n",
       "The World Bank Group                            1\n",
       "Name: University, Length: 184, dtype: int64"
      ]
     },
     "execution_count": 8,
     "metadata": {},
     "output_type": "execute_result"
    }
   ],
   "source": [
    "data['University'].value_counts()"
   ]
  },
  {
   "cell_type": "code",
   "execution_count": 9,
   "id": "266ed8a6",
   "metadata": {
    "execution": {
     "iopub.execute_input": "2022-05-29T17:41:40.809449Z",
     "iopub.status.busy": "2022-05-29T17:41:40.808934Z",
     "iopub.status.idle": "2022-05-29T17:41:40.814837Z",
     "shell.execute_reply": "2022-05-29T17:41:40.814244Z"
    },
    "papermill": {
     "duration": 0.019193,
     "end_time": "2022-05-29T17:41:40.816586",
     "exception": false,
     "start_time": "2022-05-29T17:41:40.797393",
     "status": "completed"
    },
    "tags": []
   },
   "outputs": [
    {
     "data": {
      "text/plain": [
       "0       Write A Feature Length Screenplay For Film Or ...\n",
       "1       Business Strategy: Business Model Canvas Analy...\n",
       "2                           Silicon Thin Film Solar Cells\n",
       "3                                    Finance for Managers\n",
       "4            Retrieve Data using Single-Table SQL Queries\n",
       "                              ...                        \n",
       "3517    Capstone: Retrieving, Processing, and Visualiz...\n",
       "3518                     Patrick Henry: Forgotten Founder\n",
       "3519    Business intelligence and data analytics: Gene...\n",
       "3520                                  Rigid Body Dynamics\n",
       "3521    Architecting with Google Kubernetes Engine: Pr...\n",
       "Name: Course Name, Length: 3522, dtype: object"
      ]
     },
     "execution_count": 9,
     "metadata": {},
     "output_type": "execute_result"
    }
   ],
   "source": [
    "data['Course Name']"
   ]
  },
  {
   "cell_type": "code",
   "execution_count": 10,
   "id": "7fa6dea8",
   "metadata": {
    "execution": {
     "iopub.execute_input": "2022-05-29T17:41:40.839379Z",
     "iopub.status.busy": "2022-05-29T17:41:40.838949Z",
     "iopub.status.idle": "2022-05-29T17:41:40.845186Z",
     "shell.execute_reply": "2022-05-29T17:41:40.844631Z"
    },
    "papermill": {
     "duration": 0.019768,
     "end_time": "2022-05-29T17:41:40.846966",
     "exception": false,
     "start_time": "2022-05-29T17:41:40.827198",
     "status": "completed"
    },
    "tags": []
   },
   "outputs": [
    {
     "data": {
      "text/plain": [
       "0       https://www.coursera.org/learn/write-a-feature...\n",
       "1       https://www.coursera.org/learn/canvas-analysis...\n",
       "2       https://www.coursera.org/learn/silicon-thin-fi...\n",
       "3       https://www.coursera.org/learn/operational-fin...\n",
       "4       https://www.coursera.org/learn/single-table-sq...\n",
       "                              ...                        \n",
       "3517    https://www.coursera.org/learn/python-data-vis...\n",
       "3518                 https://www.coursera.org/learn/henry\n",
       "3519    https://www.coursera.org/learn/business-intell...\n",
       "3520    https://www.coursera.org/learn/rigid-body-dyna...\n",
       "3521    https://www.coursera.org/learn/deploying-secur...\n",
       "Name: Course URL, Length: 3522, dtype: object"
      ]
     },
     "execution_count": 10,
     "metadata": {},
     "output_type": "execute_result"
    }
   ],
   "source": [
    "data['Course URL']"
   ]
  },
  {
   "cell_type": "code",
   "execution_count": 11,
   "id": "14dbaa56",
   "metadata": {
    "execution": {
     "iopub.execute_input": "2022-05-29T17:41:40.870365Z",
     "iopub.status.busy": "2022-05-29T17:41:40.869967Z",
     "iopub.status.idle": "2022-05-29T17:41:40.874753Z",
     "shell.execute_reply": "2022-05-29T17:41:40.874191Z"
    },
    "papermill": {
     "duration": 0.018666,
     "end_time": "2022-05-29T17:41:40.876614",
     "exception": false,
     "start_time": "2022-05-29T17:41:40.857948",
     "status": "completed"
    },
    "tags": []
   },
   "outputs": [],
   "source": [
    "data = data[['Course Name','Difficulty Level','Course Description','Skills','Course URL']]"
   ]
  },
  {
   "cell_type": "code",
   "execution_count": 12,
   "id": "f30d5d01",
   "metadata": {
    "execution": {
     "iopub.execute_input": "2022-05-29T17:41:40.900343Z",
     "iopub.status.busy": "2022-05-29T17:41:40.899834Z",
     "iopub.status.idle": "2022-05-29T17:41:40.910948Z",
     "shell.execute_reply": "2022-05-29T17:41:40.910340Z"
    },
    "papermill": {
     "duration": 0.025252,
     "end_time": "2022-05-29T17:41:40.912859",
     "exception": false,
     "start_time": "2022-05-29T17:41:40.887607",
     "status": "completed"
    },
    "tags": []
   },
   "outputs": [
    {
     "data": {
      "text/html": [
       "<div>\n",
       "<style scoped>\n",
       "    .dataframe tbody tr th:only-of-type {\n",
       "        vertical-align: middle;\n",
       "    }\n",
       "\n",
       "    .dataframe tbody tr th {\n",
       "        vertical-align: top;\n",
       "    }\n",
       "\n",
       "    .dataframe thead th {\n",
       "        text-align: right;\n",
       "    }\n",
       "</style>\n",
       "<table border=\"1\" class=\"dataframe\">\n",
       "  <thead>\n",
       "    <tr style=\"text-align: right;\">\n",
       "      <th></th>\n",
       "      <th>Course Name</th>\n",
       "      <th>Difficulty Level</th>\n",
       "      <th>Course Description</th>\n",
       "      <th>Skills</th>\n",
       "      <th>Course URL</th>\n",
       "    </tr>\n",
       "  </thead>\n",
       "  <tbody>\n",
       "    <tr>\n",
       "      <th>0</th>\n",
       "      <td>Write A Feature Length Screenplay For Film Or ...</td>\n",
       "      <td>Beginner</td>\n",
       "      <td>Write a Full Length Feature Film Script  In th...</td>\n",
       "      <td>Drama  Comedy  peering  screenwriting  film  D...</td>\n",
       "      <td>https://www.coursera.org/learn/write-a-feature...</td>\n",
       "    </tr>\n",
       "    <tr>\n",
       "      <th>1</th>\n",
       "      <td>Business Strategy: Business Model Canvas Analy...</td>\n",
       "      <td>Beginner</td>\n",
       "      <td>By the end of this guided project, you will be...</td>\n",
       "      <td>Finance  business plan  persona (user experien...</td>\n",
       "      <td>https://www.coursera.org/learn/canvas-analysis...</td>\n",
       "    </tr>\n",
       "    <tr>\n",
       "      <th>2</th>\n",
       "      <td>Silicon Thin Film Solar Cells</td>\n",
       "      <td>Advanced</td>\n",
       "      <td>This course consists of a general presentation...</td>\n",
       "      <td>chemistry  physics  Solar Energy  film  lambda...</td>\n",
       "      <td>https://www.coursera.org/learn/silicon-thin-fi...</td>\n",
       "    </tr>\n",
       "    <tr>\n",
       "      <th>3</th>\n",
       "      <td>Finance for Managers</td>\n",
       "      <td>Intermediate</td>\n",
       "      <td>When it comes to numbers, there is always more...</td>\n",
       "      <td>accounts receivable  dupont analysis  analysis...</td>\n",
       "      <td>https://www.coursera.org/learn/operational-fin...</td>\n",
       "    </tr>\n",
       "    <tr>\n",
       "      <th>4</th>\n",
       "      <td>Retrieve Data using Single-Table SQL Queries</td>\n",
       "      <td>Beginner</td>\n",
       "      <td>In this course you�ll learn how to effectively...</td>\n",
       "      <td>Data Analysis  select (sql)  database manageme...</td>\n",
       "      <td>https://www.coursera.org/learn/single-table-sq...</td>\n",
       "    </tr>\n",
       "    <tr>\n",
       "      <th>5</th>\n",
       "      <td>Building Test Automation Framework using Selen...</td>\n",
       "      <td>Beginner</td>\n",
       "      <td>Selenium is one of the most widely used functi...</td>\n",
       "      <td>maintenance  test case  test automation  scree...</td>\n",
       "      <td>https://www.coursera.org/learn/building-test-a...</td>\n",
       "    </tr>\n",
       "    <tr>\n",
       "      <th>6</th>\n",
       "      <td>Doing Business in China Capstone</td>\n",
       "      <td>Advanced</td>\n",
       "      <td>Doing Business in China Capstone enables you t...</td>\n",
       "      <td>marketing plan  Planning  Marketing  consumpti...</td>\n",
       "      <td>https://www.coursera.org/learn/doing-business-...</td>\n",
       "    </tr>\n",
       "    <tr>\n",
       "      <th>7</th>\n",
       "      <td>Programming Languages, Part A</td>\n",
       "      <td>Intermediate</td>\n",
       "      <td>This course is an introduction to the basic co...</td>\n",
       "      <td>inference  ml (programming language)  higher-o...</td>\n",
       "      <td>https://www.coursera.org/learn/programming-lan...</td>\n",
       "    </tr>\n",
       "    <tr>\n",
       "      <th>8</th>\n",
       "      <td>The Roles and Responsibilities of Nonprofit Bo...</td>\n",
       "      <td>Intermediate</td>\n",
       "      <td>This course provides a more in-depth look at t...</td>\n",
       "      <td>Planning  Peer Review  fundraising  strategic ...</td>\n",
       "      <td>https://www.coursera.org/learn/nonprofit-gov-2</td>\n",
       "    </tr>\n",
       "    <tr>\n",
       "      <th>9</th>\n",
       "      <td>Business Russian Communication. Part 3</td>\n",
       "      <td>Intermediate</td>\n",
       "      <td>Russian is considered to be one of the most di...</td>\n",
       "      <td>Russian  market (economics)  tax exemption  co...</td>\n",
       "      <td>https://www.coursera.org/learn/business-russia...</td>\n",
       "    </tr>\n",
       "  </tbody>\n",
       "</table>\n",
       "</div>"
      ],
      "text/plain": [
       "                                         Course Name Difficulty Level  \\\n",
       "0  Write A Feature Length Screenplay For Film Or ...         Beginner   \n",
       "1  Business Strategy: Business Model Canvas Analy...         Beginner   \n",
       "2                      Silicon Thin Film Solar Cells         Advanced   \n",
       "3                               Finance for Managers     Intermediate   \n",
       "4       Retrieve Data using Single-Table SQL Queries         Beginner   \n",
       "5  Building Test Automation Framework using Selen...         Beginner   \n",
       "6                   Doing Business in China Capstone         Advanced   \n",
       "7                      Programming Languages, Part A     Intermediate   \n",
       "8  The Roles and Responsibilities of Nonprofit Bo...     Intermediate   \n",
       "9             Business Russian Communication. Part 3     Intermediate   \n",
       "\n",
       "                                  Course Description  \\\n",
       "0  Write a Full Length Feature Film Script  In th...   \n",
       "1  By the end of this guided project, you will be...   \n",
       "2  This course consists of a general presentation...   \n",
       "3  When it comes to numbers, there is always more...   \n",
       "4  In this course you�ll learn how to effectively...   \n",
       "5  Selenium is one of the most widely used functi...   \n",
       "6  Doing Business in China Capstone enables you t...   \n",
       "7  This course is an introduction to the basic co...   \n",
       "8  This course provides a more in-depth look at t...   \n",
       "9  Russian is considered to be one of the most di...   \n",
       "\n",
       "                                              Skills  \\\n",
       "0  Drama  Comedy  peering  screenwriting  film  D...   \n",
       "1  Finance  business plan  persona (user experien...   \n",
       "2  chemistry  physics  Solar Energy  film  lambda...   \n",
       "3  accounts receivable  dupont analysis  analysis...   \n",
       "4  Data Analysis  select (sql)  database manageme...   \n",
       "5  maintenance  test case  test automation  scree...   \n",
       "6  marketing plan  Planning  Marketing  consumpti...   \n",
       "7  inference  ml (programming language)  higher-o...   \n",
       "8  Planning  Peer Review  fundraising  strategic ...   \n",
       "9  Russian  market (economics)  tax exemption  co...   \n",
       "\n",
       "                                          Course URL  \n",
       "0  https://www.coursera.org/learn/write-a-feature...  \n",
       "1  https://www.coursera.org/learn/canvas-analysis...  \n",
       "2  https://www.coursera.org/learn/silicon-thin-fi...  \n",
       "3  https://www.coursera.org/learn/operational-fin...  \n",
       "4  https://www.coursera.org/learn/single-table-sq...  \n",
       "5  https://www.coursera.org/learn/building-test-a...  \n",
       "6  https://www.coursera.org/learn/doing-business-...  \n",
       "7  https://www.coursera.org/learn/programming-lan...  \n",
       "8     https://www.coursera.org/learn/nonprofit-gov-2  \n",
       "9  https://www.coursera.org/learn/business-russia...  "
      ]
     },
     "execution_count": 12,
     "metadata": {},
     "output_type": "execute_result"
    }
   ],
   "source": [
    "data.head(10)"
   ]
  },
  {
   "cell_type": "code",
   "execution_count": 13,
   "id": "b81099d1",
   "metadata": {
    "execution": {
     "iopub.execute_input": "2022-05-29T17:41:40.937338Z",
     "iopub.status.busy": "2022-05-29T17:41:40.936586Z",
     "iopub.status.idle": "2022-05-29T17:41:41.053516Z",
     "shell.execute_reply": "2022-05-29T17:41:41.052530Z"
    },
    "papermill": {
     "duration": 0.131634,
     "end_time": "2022-05-29T17:41:41.056117",
     "exception": false,
     "start_time": "2022-05-29T17:41:40.924483",
     "status": "completed"
    },
    "tags": []
   },
   "outputs": [
    {
     "name": "stderr",
     "output_type": "stream",
     "text": [
      "/opt/conda/lib/python3.7/site-packages/ipykernel_launcher.py:10: FutureWarning: The default value of regex will change from True to False in a future version. In addition, single character regular expressions will *not* be treated as literal strings when regex=True.\n",
      "  # Remove the CWD from sys.path while we load stuff.\n",
      "/opt/conda/lib/python3.7/site-packages/ipykernel_launcher.py:11: FutureWarning: The default value of regex will change from True to False in a future version. In addition, single character regular expressions will *not* be treated as literal strings when regex=True.\n",
      "  # This is added back by InteractiveShellApp.init_path()\n",
      "/opt/conda/lib/python3.7/site-packages/ipykernel_launcher.py:14: FutureWarning: The default value of regex will change from True to False in a future version. In addition, single character regular expressions will *not* be treated as literal strings when regex=True.\n",
      "  \n",
      "/opt/conda/lib/python3.7/site-packages/ipykernel_launcher.py:15: FutureWarning: The default value of regex will change from True to False in a future version. In addition, single character regular expressions will *not* be treated as literal strings when regex=True.\n",
      "  from ipykernel import kernelapp as app\n"
     ]
    }
   ],
   "source": [
    "# Removing spaces between the words (Lambda funtions can be used as well)\n",
    "\n",
    "data['Course Name'] = data['Course Name'].str.replace(' ',',')\n",
    "data['Course Name'] = data['Course Name'].str.replace(',,',',')\n",
    "data['Course Name'] = data['Course Name'].str.replace(':','')\n",
    "data['Course Description'] = data['Course Description'].str.replace(' ',',')\n",
    "data['Course Description'] = data['Course Description'].str.replace(',,',',')\n",
    "data['Course Description'] = data['Course Description'].str.replace('_','')\n",
    "data['Course Description'] = data['Course Description'].str.replace(':','')\n",
    "data['Course Description'] = data['Course Description'].str.replace('(','')\n",
    "data['Course Description'] = data['Course Description'].str.replace(')','')\n",
    "\n",
    "#removing paranthesis from skills columns \n",
    "data['Skills'] = data['Skills'].str.replace('(','')\n",
    "data['Skills'] = data['Skills'].str.replace(')','')"
   ]
  },
  {
   "cell_type": "code",
   "execution_count": 14,
   "id": "52ec276d",
   "metadata": {
    "execution": {
     "iopub.execute_input": "2022-05-29T17:41:41.082569Z",
     "iopub.status.busy": "2022-05-29T17:41:41.081318Z",
     "iopub.status.idle": "2022-05-29T17:41:41.093168Z",
     "shell.execute_reply": "2022-05-29T17:41:41.092552Z"
    },
    "papermill": {
     "duration": 0.026514,
     "end_time": "2022-05-29T17:41:41.094829",
     "exception": false,
     "start_time": "2022-05-29T17:41:41.068315",
     "status": "completed"
    },
    "tags": []
   },
   "outputs": [
    {
     "data": {
      "text/html": [
       "<div>\n",
       "<style scoped>\n",
       "    .dataframe tbody tr th:only-of-type {\n",
       "        vertical-align: middle;\n",
       "    }\n",
       "\n",
       "    .dataframe tbody tr th {\n",
       "        vertical-align: top;\n",
       "    }\n",
       "\n",
       "    .dataframe thead th {\n",
       "        text-align: right;\n",
       "    }\n",
       "</style>\n",
       "<table border=\"1\" class=\"dataframe\">\n",
       "  <thead>\n",
       "    <tr style=\"text-align: right;\">\n",
       "      <th></th>\n",
       "      <th>Course Name</th>\n",
       "      <th>Difficulty Level</th>\n",
       "      <th>Course Description</th>\n",
       "      <th>Skills</th>\n",
       "      <th>Course URL</th>\n",
       "    </tr>\n",
       "  </thead>\n",
       "  <tbody>\n",
       "    <tr>\n",
       "      <th>0</th>\n",
       "      <td>Write,A,Feature,Length,Screenplay,For,Film,Or,...</td>\n",
       "      <td>Beginner</td>\n",
       "      <td>Write,a,Full,Length,Feature,Film,Script,In,thi...</td>\n",
       "      <td>Drama  Comedy  peering  screenwriting  film  D...</td>\n",
       "      <td>https://www.coursera.org/learn/write-a-feature...</td>\n",
       "    </tr>\n",
       "    <tr>\n",
       "      <th>1</th>\n",
       "      <td>Business,Strategy,Business,Model,Canvas,Analys...</td>\n",
       "      <td>Beginner</td>\n",
       "      <td>By,the,end,of,this,guided,project,you,will,be,...</td>\n",
       "      <td>Finance  business plan  persona user experienc...</td>\n",
       "      <td>https://www.coursera.org/learn/canvas-analysis...</td>\n",
       "    </tr>\n",
       "    <tr>\n",
       "      <th>2</th>\n",
       "      <td>Silicon,Thin,Film,Solar,Cells</td>\n",
       "      <td>Advanced</td>\n",
       "      <td>This,course,consists,of,a,general,presentation...</td>\n",
       "      <td>chemistry  physics  Solar Energy  film  lambda...</td>\n",
       "      <td>https://www.coursera.org/learn/silicon-thin-fi...</td>\n",
       "    </tr>\n",
       "    <tr>\n",
       "      <th>3</th>\n",
       "      <td>Finance,for,Managers</td>\n",
       "      <td>Intermediate</td>\n",
       "      <td>When,it,comes,to,numbers,there,is,always,more,...</td>\n",
       "      <td>accounts receivable  dupont analysis  analysis...</td>\n",
       "      <td>https://www.coursera.org/learn/operational-fin...</td>\n",
       "    </tr>\n",
       "    <tr>\n",
       "      <th>4</th>\n",
       "      <td>Retrieve,Data,using,Single-Table,SQL,Queries</td>\n",
       "      <td>Beginner</td>\n",
       "      <td>In,this,course,you�ll,learn,how,to,effectively...</td>\n",
       "      <td>Data Analysis  select sql  database management...</td>\n",
       "      <td>https://www.coursera.org/learn/single-table-sq...</td>\n",
       "    </tr>\n",
       "    <tr>\n",
       "      <th>5</th>\n",
       "      <td>Building,Test,Automation,Framework,using,Selen...</td>\n",
       "      <td>Beginner</td>\n",
       "      <td>Selenium,is,one,of,the,most,widely,used,functi...</td>\n",
       "      <td>maintenance  test case  test automation  scree...</td>\n",
       "      <td>https://www.coursera.org/learn/building-test-a...</td>\n",
       "    </tr>\n",
       "    <tr>\n",
       "      <th>6</th>\n",
       "      <td>Doing,Business,in,China,Capstone</td>\n",
       "      <td>Advanced</td>\n",
       "      <td>Doing,Business,in,China,Capstone,enables,you,t...</td>\n",
       "      <td>marketing plan  Planning  Marketing  consumpti...</td>\n",
       "      <td>https://www.coursera.org/learn/doing-business-...</td>\n",
       "    </tr>\n",
       "    <tr>\n",
       "      <th>7</th>\n",
       "      <td>Programming,Languages,Part,A</td>\n",
       "      <td>Intermediate</td>\n",
       "      <td>This,course,is,an,introduction,to,the,basic,co...</td>\n",
       "      <td>inference  ml programming language  higher-ord...</td>\n",
       "      <td>https://www.coursera.org/learn/programming-lan...</td>\n",
       "    </tr>\n",
       "    <tr>\n",
       "      <th>8</th>\n",
       "      <td>The,Roles,and,Responsibilities,of,Nonprofit,Bo...</td>\n",
       "      <td>Intermediate</td>\n",
       "      <td>This,course,provides,a,more,in-depth,look,at,t...</td>\n",
       "      <td>Planning  Peer Review  fundraising  strategic ...</td>\n",
       "      <td>https://www.coursera.org/learn/nonprofit-gov-2</td>\n",
       "    </tr>\n",
       "    <tr>\n",
       "      <th>9</th>\n",
       "      <td>Business,Russian,Communication.,Part,3</td>\n",
       "      <td>Intermediate</td>\n",
       "      <td>Russian,is,considered,to,be,one,of,the,most,di...</td>\n",
       "      <td>Russian  market economics  tax exemption  coop...</td>\n",
       "      <td>https://www.coursera.org/learn/business-russia...</td>\n",
       "    </tr>\n",
       "  </tbody>\n",
       "</table>\n",
       "</div>"
      ],
      "text/plain": [
       "                                         Course Name Difficulty Level  \\\n",
       "0  Write,A,Feature,Length,Screenplay,For,Film,Or,...         Beginner   \n",
       "1  Business,Strategy,Business,Model,Canvas,Analys...         Beginner   \n",
       "2                      Silicon,Thin,Film,Solar,Cells         Advanced   \n",
       "3                               Finance,for,Managers     Intermediate   \n",
       "4       Retrieve,Data,using,Single-Table,SQL,Queries         Beginner   \n",
       "5  Building,Test,Automation,Framework,using,Selen...         Beginner   \n",
       "6                   Doing,Business,in,China,Capstone         Advanced   \n",
       "7                       Programming,Languages,Part,A     Intermediate   \n",
       "8  The,Roles,and,Responsibilities,of,Nonprofit,Bo...     Intermediate   \n",
       "9             Business,Russian,Communication.,Part,3     Intermediate   \n",
       "\n",
       "                                  Course Description  \\\n",
       "0  Write,a,Full,Length,Feature,Film,Script,In,thi...   \n",
       "1  By,the,end,of,this,guided,project,you,will,be,...   \n",
       "2  This,course,consists,of,a,general,presentation...   \n",
       "3  When,it,comes,to,numbers,there,is,always,more,...   \n",
       "4  In,this,course,you�ll,learn,how,to,effectively...   \n",
       "5  Selenium,is,one,of,the,most,widely,used,functi...   \n",
       "6  Doing,Business,in,China,Capstone,enables,you,t...   \n",
       "7  This,course,is,an,introduction,to,the,basic,co...   \n",
       "8  This,course,provides,a,more,in-depth,look,at,t...   \n",
       "9  Russian,is,considered,to,be,one,of,the,most,di...   \n",
       "\n",
       "                                              Skills  \\\n",
       "0  Drama  Comedy  peering  screenwriting  film  D...   \n",
       "1  Finance  business plan  persona user experienc...   \n",
       "2  chemistry  physics  Solar Energy  film  lambda...   \n",
       "3  accounts receivable  dupont analysis  analysis...   \n",
       "4  Data Analysis  select sql  database management...   \n",
       "5  maintenance  test case  test automation  scree...   \n",
       "6  marketing plan  Planning  Marketing  consumpti...   \n",
       "7  inference  ml programming language  higher-ord...   \n",
       "8  Planning  Peer Review  fundraising  strategic ...   \n",
       "9  Russian  market economics  tax exemption  coop...   \n",
       "\n",
       "                                          Course URL  \n",
       "0  https://www.coursera.org/learn/write-a-feature...  \n",
       "1  https://www.coursera.org/learn/canvas-analysis...  \n",
       "2  https://www.coursera.org/learn/silicon-thin-fi...  \n",
       "3  https://www.coursera.org/learn/operational-fin...  \n",
       "4  https://www.coursera.org/learn/single-table-sq...  \n",
       "5  https://www.coursera.org/learn/building-test-a...  \n",
       "6  https://www.coursera.org/learn/doing-business-...  \n",
       "7  https://www.coursera.org/learn/programming-lan...  \n",
       "8     https://www.coursera.org/learn/nonprofit-gov-2  \n",
       "9  https://www.coursera.org/learn/business-russia...  "
      ]
     },
     "execution_count": 14,
     "metadata": {},
     "output_type": "execute_result"
    }
   ],
   "source": [
    "data.head(10)"
   ]
  },
  {
   "cell_type": "code",
   "execution_count": 15,
   "id": "12b76a22",
   "metadata": {
    "execution": {
     "iopub.execute_input": "2022-05-29T17:41:41.120422Z",
     "iopub.status.busy": "2022-05-29T17:41:41.119659Z",
     "iopub.status.idle": "2022-05-29T17:41:41.140810Z",
     "shell.execute_reply": "2022-05-29T17:41:41.139822Z"
    },
    "papermill": {
     "duration": 0.036282,
     "end_time": "2022-05-29T17:41:41.143118",
     "exception": false,
     "start_time": "2022-05-29T17:41:41.106836",
     "status": "completed"
    },
    "tags": []
   },
   "outputs": [],
   "source": [
    "data['tags'] = data['Course Name'] + data['Difficulty Level'] + data['Course Description'] + data['Skills'] + data['Course URL']"
   ]
  },
  {
   "cell_type": "code",
   "execution_count": 16,
   "id": "c19b6c6a",
   "metadata": {
    "execution": {
     "iopub.execute_input": "2022-05-29T17:41:41.168215Z",
     "iopub.status.busy": "2022-05-29T17:41:41.167820Z",
     "iopub.status.idle": "2022-05-29T17:41:41.181809Z",
     "shell.execute_reply": "2022-05-29T17:41:41.180976Z"
    },
    "papermill": {
     "duration": 0.028724,
     "end_time": "2022-05-29T17:41:41.183702",
     "exception": false,
     "start_time": "2022-05-29T17:41:41.154978",
     "status": "completed"
    },
    "tags": []
   },
   "outputs": [
    {
     "data": {
      "text/html": [
       "<div>\n",
       "<style scoped>\n",
       "    .dataframe tbody tr th:only-of-type {\n",
       "        vertical-align: middle;\n",
       "    }\n",
       "\n",
       "    .dataframe tbody tr th {\n",
       "        vertical-align: top;\n",
       "    }\n",
       "\n",
       "    .dataframe thead th {\n",
       "        text-align: right;\n",
       "    }\n",
       "</style>\n",
       "<table border=\"1\" class=\"dataframe\">\n",
       "  <thead>\n",
       "    <tr style=\"text-align: right;\">\n",
       "      <th></th>\n",
       "      <th>Course Name</th>\n",
       "      <th>Difficulty Level</th>\n",
       "      <th>Course Description</th>\n",
       "      <th>Skills</th>\n",
       "      <th>Course URL</th>\n",
       "      <th>tags</th>\n",
       "    </tr>\n",
       "  </thead>\n",
       "  <tbody>\n",
       "    <tr>\n",
       "      <th>0</th>\n",
       "      <td>Write,A,Feature,Length,Screenplay,For,Film,Or,...</td>\n",
       "      <td>Beginner</td>\n",
       "      <td>Write,a,Full,Length,Feature,Film,Script,In,thi...</td>\n",
       "      <td>Drama  Comedy  peering  screenwriting  film  D...</td>\n",
       "      <td>https://www.coursera.org/learn/write-a-feature...</td>\n",
       "      <td>Write,A,Feature,Length,Screenplay,For,Film,Or,...</td>\n",
       "    </tr>\n",
       "    <tr>\n",
       "      <th>1</th>\n",
       "      <td>Business,Strategy,Business,Model,Canvas,Analys...</td>\n",
       "      <td>Beginner</td>\n",
       "      <td>By,the,end,of,this,guided,project,you,will,be,...</td>\n",
       "      <td>Finance  business plan  persona user experienc...</td>\n",
       "      <td>https://www.coursera.org/learn/canvas-analysis...</td>\n",
       "      <td>Business,Strategy,Business,Model,Canvas,Analys...</td>\n",
       "    </tr>\n",
       "    <tr>\n",
       "      <th>2</th>\n",
       "      <td>Silicon,Thin,Film,Solar,Cells</td>\n",
       "      <td>Advanced</td>\n",
       "      <td>This,course,consists,of,a,general,presentation...</td>\n",
       "      <td>chemistry  physics  Solar Energy  film  lambda...</td>\n",
       "      <td>https://www.coursera.org/learn/silicon-thin-fi...</td>\n",
       "      <td>Silicon,Thin,Film,Solar,CellsAdvancedThis,cour...</td>\n",
       "    </tr>\n",
       "    <tr>\n",
       "      <th>3</th>\n",
       "      <td>Finance,for,Managers</td>\n",
       "      <td>Intermediate</td>\n",
       "      <td>When,it,comes,to,numbers,there,is,always,more,...</td>\n",
       "      <td>accounts receivable  dupont analysis  analysis...</td>\n",
       "      <td>https://www.coursera.org/learn/operational-fin...</td>\n",
       "      <td>Finance,for,ManagersIntermediateWhen,it,comes,...</td>\n",
       "    </tr>\n",
       "    <tr>\n",
       "      <th>4</th>\n",
       "      <td>Retrieve,Data,using,Single-Table,SQL,Queries</td>\n",
       "      <td>Beginner</td>\n",
       "      <td>In,this,course,you�ll,learn,how,to,effectively...</td>\n",
       "      <td>Data Analysis  select sql  database management...</td>\n",
       "      <td>https://www.coursera.org/learn/single-table-sq...</td>\n",
       "      <td>Retrieve,Data,using,Single-Table,SQL,QueriesBe...</td>\n",
       "    </tr>\n",
       "    <tr>\n",
       "      <th>5</th>\n",
       "      <td>Building,Test,Automation,Framework,using,Selen...</td>\n",
       "      <td>Beginner</td>\n",
       "      <td>Selenium,is,one,of,the,most,widely,used,functi...</td>\n",
       "      <td>maintenance  test case  test automation  scree...</td>\n",
       "      <td>https://www.coursera.org/learn/building-test-a...</td>\n",
       "      <td>Building,Test,Automation,Framework,using,Selen...</td>\n",
       "    </tr>\n",
       "    <tr>\n",
       "      <th>6</th>\n",
       "      <td>Doing,Business,in,China,Capstone</td>\n",
       "      <td>Advanced</td>\n",
       "      <td>Doing,Business,in,China,Capstone,enables,you,t...</td>\n",
       "      <td>marketing plan  Planning  Marketing  consumpti...</td>\n",
       "      <td>https://www.coursera.org/learn/doing-business-...</td>\n",
       "      <td>Doing,Business,in,China,CapstoneAdvancedDoing,...</td>\n",
       "    </tr>\n",
       "    <tr>\n",
       "      <th>7</th>\n",
       "      <td>Programming,Languages,Part,A</td>\n",
       "      <td>Intermediate</td>\n",
       "      <td>This,course,is,an,introduction,to,the,basic,co...</td>\n",
       "      <td>inference  ml programming language  higher-ord...</td>\n",
       "      <td>https://www.coursera.org/learn/programming-lan...</td>\n",
       "      <td>Programming,Languages,Part,AIntermediateThis,c...</td>\n",
       "    </tr>\n",
       "    <tr>\n",
       "      <th>8</th>\n",
       "      <td>The,Roles,and,Responsibilities,of,Nonprofit,Bo...</td>\n",
       "      <td>Intermediate</td>\n",
       "      <td>This,course,provides,a,more,in-depth,look,at,t...</td>\n",
       "      <td>Planning  Peer Review  fundraising  strategic ...</td>\n",
       "      <td>https://www.coursera.org/learn/nonprofit-gov-2</td>\n",
       "      <td>The,Roles,and,Responsibilities,of,Nonprofit,Bo...</td>\n",
       "    </tr>\n",
       "    <tr>\n",
       "      <th>9</th>\n",
       "      <td>Business,Russian,Communication.,Part,3</td>\n",
       "      <td>Intermediate</td>\n",
       "      <td>Russian,is,considered,to,be,one,of,the,most,di...</td>\n",
       "      <td>Russian  market economics  tax exemption  coop...</td>\n",
       "      <td>https://www.coursera.org/learn/business-russia...</td>\n",
       "      <td>Business,Russian,Communication.,Part,3Intermed...</td>\n",
       "    </tr>\n",
       "  </tbody>\n",
       "</table>\n",
       "</div>"
      ],
      "text/plain": [
       "                                         Course Name Difficulty Level  \\\n",
       "0  Write,A,Feature,Length,Screenplay,For,Film,Or,...         Beginner   \n",
       "1  Business,Strategy,Business,Model,Canvas,Analys...         Beginner   \n",
       "2                      Silicon,Thin,Film,Solar,Cells         Advanced   \n",
       "3                               Finance,for,Managers     Intermediate   \n",
       "4       Retrieve,Data,using,Single-Table,SQL,Queries         Beginner   \n",
       "5  Building,Test,Automation,Framework,using,Selen...         Beginner   \n",
       "6                   Doing,Business,in,China,Capstone         Advanced   \n",
       "7                       Programming,Languages,Part,A     Intermediate   \n",
       "8  The,Roles,and,Responsibilities,of,Nonprofit,Bo...     Intermediate   \n",
       "9             Business,Russian,Communication.,Part,3     Intermediate   \n",
       "\n",
       "                                  Course Description  \\\n",
       "0  Write,a,Full,Length,Feature,Film,Script,In,thi...   \n",
       "1  By,the,end,of,this,guided,project,you,will,be,...   \n",
       "2  This,course,consists,of,a,general,presentation...   \n",
       "3  When,it,comes,to,numbers,there,is,always,more,...   \n",
       "4  In,this,course,you�ll,learn,how,to,effectively...   \n",
       "5  Selenium,is,one,of,the,most,widely,used,functi...   \n",
       "6  Doing,Business,in,China,Capstone,enables,you,t...   \n",
       "7  This,course,is,an,introduction,to,the,basic,co...   \n",
       "8  This,course,provides,a,more,in-depth,look,at,t...   \n",
       "9  Russian,is,considered,to,be,one,of,the,most,di...   \n",
       "\n",
       "                                              Skills  \\\n",
       "0  Drama  Comedy  peering  screenwriting  film  D...   \n",
       "1  Finance  business plan  persona user experienc...   \n",
       "2  chemistry  physics  Solar Energy  film  lambda...   \n",
       "3  accounts receivable  dupont analysis  analysis...   \n",
       "4  Data Analysis  select sql  database management...   \n",
       "5  maintenance  test case  test automation  scree...   \n",
       "6  marketing plan  Planning  Marketing  consumpti...   \n",
       "7  inference  ml programming language  higher-ord...   \n",
       "8  Planning  Peer Review  fundraising  strategic ...   \n",
       "9  Russian  market economics  tax exemption  coop...   \n",
       "\n",
       "                                          Course URL  \\\n",
       "0  https://www.coursera.org/learn/write-a-feature...   \n",
       "1  https://www.coursera.org/learn/canvas-analysis...   \n",
       "2  https://www.coursera.org/learn/silicon-thin-fi...   \n",
       "3  https://www.coursera.org/learn/operational-fin...   \n",
       "4  https://www.coursera.org/learn/single-table-sq...   \n",
       "5  https://www.coursera.org/learn/building-test-a...   \n",
       "6  https://www.coursera.org/learn/doing-business-...   \n",
       "7  https://www.coursera.org/learn/programming-lan...   \n",
       "8     https://www.coursera.org/learn/nonprofit-gov-2   \n",
       "9  https://www.coursera.org/learn/business-russia...   \n",
       "\n",
       "                                                tags  \n",
       "0  Write,A,Feature,Length,Screenplay,For,Film,Or,...  \n",
       "1  Business,Strategy,Business,Model,Canvas,Analys...  \n",
       "2  Silicon,Thin,Film,Solar,CellsAdvancedThis,cour...  \n",
       "3  Finance,for,ManagersIntermediateWhen,it,comes,...  \n",
       "4  Retrieve,Data,using,Single-Table,SQL,QueriesBe...  \n",
       "5  Building,Test,Automation,Framework,using,Selen...  \n",
       "6  Doing,Business,in,China,CapstoneAdvancedDoing,...  \n",
       "7  Programming,Languages,Part,AIntermediateThis,c...  \n",
       "8  The,Roles,and,Responsibilities,of,Nonprofit,Bo...  \n",
       "9  Business,Russian,Communication.,Part,3Intermed...  "
      ]
     },
     "execution_count": 16,
     "metadata": {},
     "output_type": "execute_result"
    }
   ],
   "source": [
    "data.head(10)"
   ]
  },
  {
   "cell_type": "code",
   "execution_count": 17,
   "id": "73ad7c04",
   "metadata": {
    "execution": {
     "iopub.execute_input": "2022-05-29T17:41:41.209861Z",
     "iopub.status.busy": "2022-05-29T17:41:41.209501Z",
     "iopub.status.idle": "2022-05-29T17:41:41.215633Z",
     "shell.execute_reply": "2022-05-29T17:41:41.214799Z"
    },
    "papermill": {
     "duration": 0.020903,
     "end_time": "2022-05-29T17:41:41.217504",
     "exception": false,
     "start_time": "2022-05-29T17:41:41.196601",
     "status": "completed"
    },
    "tags": []
   },
   "outputs": [
    {
     "data": {
      "text/plain": [
       "'Business,Strategy,Business,Model,Canvas,Analysis,with,MiroBeginnerBy,the,end,of,this,guided,project,you,will,be,fluent,in,identifying,and,creating,Business,Model,Canvas,solutions,based,on,previous,high-level,analyses,and,research,data.,This,will,enable,you,to,identify,and,map,the,elements,required,for,new,products,and,services.,Furthermore,it,is,essential,for,generating,positive,results,for,your,business,venture.,This,guided,project,is,designed,to,engage,and,harness,your,visionary,and,exploratory,abilities.,You,will,use,proven,models,in,strategy,and,product,development,with,the,Miro,platform,to,explore,and,analyse,your,business,propositions.,,We,will,practice,critically,examining,results,from,previous,analysis,and,research,results,in,deriving,the,values,for,each,of,the,business,model,sections.Finance  business plan  persona user experience  business model canvas  Planning  Business  project  Product Development  presentation  Strategy business business-strategyhttps://www.coursera.org/learn/canvas-analysis-miro'"
      ]
     },
     "execution_count": 17,
     "metadata": {},
     "output_type": "execute_result"
    }
   ],
   "source": [
    "data['tags'].iloc[1]"
   ]
  },
  {
   "cell_type": "code",
   "execution_count": 18,
   "id": "dfb1477e",
   "metadata": {
    "execution": {
     "iopub.execute_input": "2022-05-29T17:41:41.243941Z",
     "iopub.status.busy": "2022-05-29T17:41:41.243552Z",
     "iopub.status.idle": "2022-05-29T17:41:41.250845Z",
     "shell.execute_reply": "2022-05-29T17:41:41.249942Z"
    },
    "papermill": {
     "duration": 0.022914,
     "end_time": "2022-05-29T17:41:41.252948",
     "exception": false,
     "start_time": "2022-05-29T17:41:41.230034",
     "status": "completed"
    },
    "tags": []
   },
   "outputs": [],
   "source": [
    "new_df = data[['Course Name','tags']]"
   ]
  },
  {
   "cell_type": "code",
   "execution_count": 19,
   "id": "9ab6e69d",
   "metadata": {
    "execution": {
     "iopub.execute_input": "2022-05-29T17:41:41.279063Z",
     "iopub.status.busy": "2022-05-29T17:41:41.278691Z",
     "iopub.status.idle": "2022-05-29T17:41:41.288995Z",
     "shell.execute_reply": "2022-05-29T17:41:41.288107Z"
    },
    "papermill": {
     "duration": 0.025442,
     "end_time": "2022-05-29T17:41:41.291043",
     "exception": false,
     "start_time": "2022-05-29T17:41:41.265601",
     "status": "completed"
    },
    "tags": []
   },
   "outputs": [
    {
     "data": {
      "text/html": [
       "<div>\n",
       "<style scoped>\n",
       "    .dataframe tbody tr th:only-of-type {\n",
       "        vertical-align: middle;\n",
       "    }\n",
       "\n",
       "    .dataframe tbody tr th {\n",
       "        vertical-align: top;\n",
       "    }\n",
       "\n",
       "    .dataframe thead th {\n",
       "        text-align: right;\n",
       "    }\n",
       "</style>\n",
       "<table border=\"1\" class=\"dataframe\">\n",
       "  <thead>\n",
       "    <tr style=\"text-align: right;\">\n",
       "      <th></th>\n",
       "      <th>Course Name</th>\n",
       "      <th>tags</th>\n",
       "    </tr>\n",
       "  </thead>\n",
       "  <tbody>\n",
       "    <tr>\n",
       "      <th>0</th>\n",
       "      <td>Write,A,Feature,Length,Screenplay,For,Film,Or,...</td>\n",
       "      <td>Write,A,Feature,Length,Screenplay,For,Film,Or,...</td>\n",
       "    </tr>\n",
       "    <tr>\n",
       "      <th>1</th>\n",
       "      <td>Business,Strategy,Business,Model,Canvas,Analys...</td>\n",
       "      <td>Business,Strategy,Business,Model,Canvas,Analys...</td>\n",
       "    </tr>\n",
       "    <tr>\n",
       "      <th>2</th>\n",
       "      <td>Silicon,Thin,Film,Solar,Cells</td>\n",
       "      <td>Silicon,Thin,Film,Solar,CellsAdvancedThis,cour...</td>\n",
       "    </tr>\n",
       "    <tr>\n",
       "      <th>3</th>\n",
       "      <td>Finance,for,Managers</td>\n",
       "      <td>Finance,for,ManagersIntermediateWhen,it,comes,...</td>\n",
       "    </tr>\n",
       "    <tr>\n",
       "      <th>4</th>\n",
       "      <td>Retrieve,Data,using,Single-Table,SQL,Queries</td>\n",
       "      <td>Retrieve,Data,using,Single-Table,SQL,QueriesBe...</td>\n",
       "    </tr>\n",
       "    <tr>\n",
       "      <th>5</th>\n",
       "      <td>Building,Test,Automation,Framework,using,Selen...</td>\n",
       "      <td>Building,Test,Automation,Framework,using,Selen...</td>\n",
       "    </tr>\n",
       "    <tr>\n",
       "      <th>6</th>\n",
       "      <td>Doing,Business,in,China,Capstone</td>\n",
       "      <td>Doing,Business,in,China,CapstoneAdvancedDoing,...</td>\n",
       "    </tr>\n",
       "    <tr>\n",
       "      <th>7</th>\n",
       "      <td>Programming,Languages,Part,A</td>\n",
       "      <td>Programming,Languages,Part,AIntermediateThis,c...</td>\n",
       "    </tr>\n",
       "    <tr>\n",
       "      <th>8</th>\n",
       "      <td>The,Roles,and,Responsibilities,of,Nonprofit,Bo...</td>\n",
       "      <td>The,Roles,and,Responsibilities,of,Nonprofit,Bo...</td>\n",
       "    </tr>\n",
       "    <tr>\n",
       "      <th>9</th>\n",
       "      <td>Business,Russian,Communication.,Part,3</td>\n",
       "      <td>Business,Russian,Communication.,Part,3Intermed...</td>\n",
       "    </tr>\n",
       "  </tbody>\n",
       "</table>\n",
       "</div>"
      ],
      "text/plain": [
       "                                         Course Name  \\\n",
       "0  Write,A,Feature,Length,Screenplay,For,Film,Or,...   \n",
       "1  Business,Strategy,Business,Model,Canvas,Analys...   \n",
       "2                      Silicon,Thin,Film,Solar,Cells   \n",
       "3                               Finance,for,Managers   \n",
       "4       Retrieve,Data,using,Single-Table,SQL,Queries   \n",
       "5  Building,Test,Automation,Framework,using,Selen...   \n",
       "6                   Doing,Business,in,China,Capstone   \n",
       "7                       Programming,Languages,Part,A   \n",
       "8  The,Roles,and,Responsibilities,of,Nonprofit,Bo...   \n",
       "9             Business,Russian,Communication.,Part,3   \n",
       "\n",
       "                                                tags  \n",
       "0  Write,A,Feature,Length,Screenplay,For,Film,Or,...  \n",
       "1  Business,Strategy,Business,Model,Canvas,Analys...  \n",
       "2  Silicon,Thin,Film,Solar,CellsAdvancedThis,cour...  \n",
       "3  Finance,for,ManagersIntermediateWhen,it,comes,...  \n",
       "4  Retrieve,Data,using,Single-Table,SQL,QueriesBe...  \n",
       "5  Building,Test,Automation,Framework,using,Selen...  \n",
       "6  Doing,Business,in,China,CapstoneAdvancedDoing,...  \n",
       "7  Programming,Languages,Part,AIntermediateThis,c...  \n",
       "8  The,Roles,and,Responsibilities,of,Nonprofit,Bo...  \n",
       "9  Business,Russian,Communication.,Part,3Intermed...  "
      ]
     },
     "execution_count": 19,
     "metadata": {},
     "output_type": "execute_result"
    }
   ],
   "source": [
    "new_df.head((10))"
   ]
  },
  {
   "cell_type": "code",
   "execution_count": 20,
   "id": "2101e2a2",
   "metadata": {
    "execution": {
     "iopub.execute_input": "2022-05-29T17:41:41.316985Z",
     "iopub.status.busy": "2022-05-29T17:41:41.316593Z",
     "iopub.status.idle": "2022-05-29T17:41:41.341855Z",
     "shell.execute_reply": "2022-05-29T17:41:41.340995Z"
    },
    "papermill": {
     "duration": 0.041013,
     "end_time": "2022-05-29T17:41:41.344389",
     "exception": false,
     "start_time": "2022-05-29T17:41:41.303376",
     "status": "completed"
    },
    "tags": []
   },
   "outputs": [
    {
     "name": "stderr",
     "output_type": "stream",
     "text": [
      "/opt/conda/lib/python3.7/site-packages/ipykernel_launcher.py:1: SettingWithCopyWarning: \n",
      "A value is trying to be set on a copy of a slice from a DataFrame.\n",
      "Try using .loc[row_indexer,col_indexer] = value instead\n",
      "\n",
      "See the caveats in the documentation: https://pandas.pydata.org/pandas-docs/stable/user_guide/indexing.html#returning-a-view-versus-a-copy\n",
      "  \"\"\"Entry point for launching an IPython kernel.\n"
     ]
    }
   ],
   "source": [
    "new_df['tags'] = data['tags'].str.replace(',',' ')"
   ]
  },
  {
   "cell_type": "code",
   "execution_count": 21,
   "id": "c1661121",
   "metadata": {
    "execution": {
     "iopub.execute_input": "2022-05-29T17:41:41.371209Z",
     "iopub.status.busy": "2022-05-29T17:41:41.370855Z",
     "iopub.status.idle": "2022-05-29T17:41:41.379425Z",
     "shell.execute_reply": "2022-05-29T17:41:41.378501Z"
    },
    "papermill": {
     "duration": 0.024407,
     "end_time": "2022-05-29T17:41:41.381802",
     "exception": false,
     "start_time": "2022-05-29T17:41:41.357395",
     "status": "completed"
    },
    "tags": []
   },
   "outputs": [
    {
     "name": "stderr",
     "output_type": "stream",
     "text": [
      "/opt/conda/lib/python3.7/site-packages/ipykernel_launcher.py:1: SettingWithCopyWarning: \n",
      "A value is trying to be set on a copy of a slice from a DataFrame.\n",
      "Try using .loc[row_indexer,col_indexer] = value instead\n",
      "\n",
      "See the caveats in the documentation: https://pandas.pydata.org/pandas-docs/stable/user_guide/indexing.html#returning-a-view-versus-a-copy\n",
      "  \"\"\"Entry point for launching an IPython kernel.\n"
     ]
    }
   ],
   "source": [
    "new_df['Course Name'] = data['Course Name'].str.replace(',',' ')"
   ]
  },
  {
   "cell_type": "code",
   "execution_count": 22,
   "id": "e76d8f57",
   "metadata": {
    "execution": {
     "iopub.execute_input": "2022-05-29T17:41:41.409141Z",
     "iopub.status.busy": "2022-05-29T17:41:41.408754Z",
     "iopub.status.idle": "2022-05-29T17:41:41.419416Z",
     "shell.execute_reply": "2022-05-29T17:41:41.418161Z"
    },
    "papermill": {
     "duration": 0.027249,
     "end_time": "2022-05-29T17:41:41.422133",
     "exception": false,
     "start_time": "2022-05-29T17:41:41.394884",
     "status": "completed"
    },
    "tags": []
   },
   "outputs": [
    {
     "name": "stderr",
     "output_type": "stream",
     "text": [
      "/opt/conda/lib/python3.7/site-packages/pandas/core/frame.py:5047: SettingWithCopyWarning: \n",
      "A value is trying to be set on a copy of a slice from a DataFrame\n",
      "\n",
      "See the caveats in the documentation: https://pandas.pydata.org/pandas-docs/stable/user_guide/indexing.html#returning-a-view-versus-a-copy\n",
      "  errors=errors,\n"
     ]
    }
   ],
   "source": [
    "new_df.rename(columns = {'Course Name':'course_name'}, inplace = True)"
   ]
  },
  {
   "cell_type": "code",
   "execution_count": 23,
   "id": "d559ef38",
   "metadata": {
    "execution": {
     "iopub.execute_input": "2022-05-29T17:41:41.449270Z",
     "iopub.status.busy": "2022-05-29T17:41:41.448910Z",
     "iopub.status.idle": "2022-05-29T17:41:41.474987Z",
     "shell.execute_reply": "2022-05-29T17:41:41.474117Z"
    },
    "papermill": {
     "duration": 0.042357,
     "end_time": "2022-05-29T17:41:41.477638",
     "exception": false,
     "start_time": "2022-05-29T17:41:41.435281",
     "status": "completed"
    },
    "tags": []
   },
   "outputs": [
    {
     "name": "stderr",
     "output_type": "stream",
     "text": [
      "/opt/conda/lib/python3.7/site-packages/ipykernel_launcher.py:1: SettingWithCopyWarning: \n",
      "A value is trying to be set on a copy of a slice from a DataFrame.\n",
      "Try using .loc[row_indexer,col_indexer] = value instead\n",
      "\n",
      "See the caveats in the documentation: https://pandas.pydata.org/pandas-docs/stable/user_guide/indexing.html#returning-a-view-versus-a-copy\n",
      "  \"\"\"Entry point for launching an IPython kernel.\n"
     ]
    }
   ],
   "source": [
    "new_df['tags'] = new_df['tags'].apply(lambda x:x.lower()) #lower casing the tags column\n"
   ]
  },
  {
   "cell_type": "code",
   "execution_count": 24,
   "id": "7eb067ec",
   "metadata": {
    "execution": {
     "iopub.execute_input": "2022-05-29T17:41:41.505323Z",
     "iopub.status.busy": "2022-05-29T17:41:41.504954Z",
     "iopub.status.idle": "2022-05-29T17:41:41.513565Z",
     "shell.execute_reply": "2022-05-29T17:41:41.512940Z"
    },
    "papermill": {
     "duration": 0.025208,
     "end_time": "2022-05-29T17:41:41.515740",
     "exception": false,
     "start_time": "2022-05-29T17:41:41.490532",
     "status": "completed"
    },
    "tags": []
   },
   "outputs": [
    {
     "data": {
      "text/html": [
       "<div>\n",
       "<style scoped>\n",
       "    .dataframe tbody tr th:only-of-type {\n",
       "        vertical-align: middle;\n",
       "    }\n",
       "\n",
       "    .dataframe tbody tr th {\n",
       "        vertical-align: top;\n",
       "    }\n",
       "\n",
       "    .dataframe thead th {\n",
       "        text-align: right;\n",
       "    }\n",
       "</style>\n",
       "<table border=\"1\" class=\"dataframe\">\n",
       "  <thead>\n",
       "    <tr style=\"text-align: right;\">\n",
       "      <th></th>\n",
       "      <th>course_name</th>\n",
       "      <th>tags</th>\n",
       "    </tr>\n",
       "  </thead>\n",
       "  <tbody>\n",
       "    <tr>\n",
       "      <th>0</th>\n",
       "      <td>Write A Feature Length Screenplay For Film Or ...</td>\n",
       "      <td>write a feature length screenplay for film or ...</td>\n",
       "    </tr>\n",
       "    <tr>\n",
       "      <th>1</th>\n",
       "      <td>Business Strategy Business Model Canvas Analys...</td>\n",
       "      <td>business strategy business model canvas analys...</td>\n",
       "    </tr>\n",
       "    <tr>\n",
       "      <th>2</th>\n",
       "      <td>Silicon Thin Film Solar Cells</td>\n",
       "      <td>silicon thin film solar cellsadvancedthis cour...</td>\n",
       "    </tr>\n",
       "    <tr>\n",
       "      <th>3</th>\n",
       "      <td>Finance for Managers</td>\n",
       "      <td>finance for managersintermediatewhen it comes ...</td>\n",
       "    </tr>\n",
       "    <tr>\n",
       "      <th>4</th>\n",
       "      <td>Retrieve Data using Single-Table SQL Queries</td>\n",
       "      <td>retrieve data using single-table sql queriesbe...</td>\n",
       "    </tr>\n",
       "    <tr>\n",
       "      <th>5</th>\n",
       "      <td>Building Test Automation Framework using Selen...</td>\n",
       "      <td>building test automation framework using selen...</td>\n",
       "    </tr>\n",
       "    <tr>\n",
       "      <th>6</th>\n",
       "      <td>Doing Business in China Capstone</td>\n",
       "      <td>doing business in china capstoneadvanceddoing ...</td>\n",
       "    </tr>\n",
       "    <tr>\n",
       "      <th>7</th>\n",
       "      <td>Programming Languages Part A</td>\n",
       "      <td>programming languages part aintermediatethis c...</td>\n",
       "    </tr>\n",
       "    <tr>\n",
       "      <th>8</th>\n",
       "      <td>The Roles and Responsibilities of Nonprofit Bo...</td>\n",
       "      <td>the roles and responsibilities of nonprofit bo...</td>\n",
       "    </tr>\n",
       "    <tr>\n",
       "      <th>9</th>\n",
       "      <td>Business Russian Communication. Part 3</td>\n",
       "      <td>business russian communication. part 3intermed...</td>\n",
       "    </tr>\n",
       "  </tbody>\n",
       "</table>\n",
       "</div>"
      ],
      "text/plain": [
       "                                         course_name  \\\n",
       "0  Write A Feature Length Screenplay For Film Or ...   \n",
       "1  Business Strategy Business Model Canvas Analys...   \n",
       "2                      Silicon Thin Film Solar Cells   \n",
       "3                               Finance for Managers   \n",
       "4       Retrieve Data using Single-Table SQL Queries   \n",
       "5  Building Test Automation Framework using Selen...   \n",
       "6                   Doing Business in China Capstone   \n",
       "7                       Programming Languages Part A   \n",
       "8  The Roles and Responsibilities of Nonprofit Bo...   \n",
       "9             Business Russian Communication. Part 3   \n",
       "\n",
       "                                                tags  \n",
       "0  write a feature length screenplay for film or ...  \n",
       "1  business strategy business model canvas analys...  \n",
       "2  silicon thin film solar cellsadvancedthis cour...  \n",
       "3  finance for managersintermediatewhen it comes ...  \n",
       "4  retrieve data using single-table sql queriesbe...  \n",
       "5  building test automation framework using selen...  \n",
       "6  doing business in china capstoneadvanceddoing ...  \n",
       "7  programming languages part aintermediatethis c...  \n",
       "8  the roles and responsibilities of nonprofit bo...  \n",
       "9  business russian communication. part 3intermed...  "
      ]
     },
     "execution_count": 24,
     "metadata": {},
     "output_type": "execute_result"
    }
   ],
   "source": [
    "new_df.head(10)"
   ]
  },
  {
   "cell_type": "code",
   "execution_count": 25,
   "id": "87d3e8a3",
   "metadata": {
    "execution": {
     "iopub.execute_input": "2022-05-29T17:41:41.544346Z",
     "iopub.status.busy": "2022-05-29T17:41:41.543637Z",
     "iopub.status.idle": "2022-05-29T17:41:41.548542Z",
     "shell.execute_reply": "2022-05-29T17:41:41.547996Z"
    },
    "papermill": {
     "duration": 0.021115,
     "end_time": "2022-05-29T17:41:41.550297",
     "exception": false,
     "start_time": "2022-05-29T17:41:41.529182",
     "status": "completed"
    },
    "tags": []
   },
   "outputs": [
    {
     "data": {
      "text/plain": [
       "(3522, 2)"
      ]
     },
     "execution_count": 25,
     "metadata": {},
     "output_type": "execute_result"
    }
   ],
   "source": [
    "new_df.shape "
   ]
  },
  {
   "cell_type": "code",
   "execution_count": 26,
   "id": "b1c51728",
   "metadata": {
    "execution": {
     "iopub.execute_input": "2022-05-29T17:41:41.578909Z",
     "iopub.status.busy": "2022-05-29T17:41:41.578440Z",
     "iopub.status.idle": "2022-05-29T17:41:41.709964Z",
     "shell.execute_reply": "2022-05-29T17:41:41.709078Z"
    },
    "papermill": {
     "duration": 0.148563,
     "end_time": "2022-05-29T17:41:41.712345",
     "exception": false,
     "start_time": "2022-05-29T17:41:41.563782",
     "status": "completed"
    },
    "tags": []
   },
   "outputs": [],
   "source": [
    "from sklearn.feature_extraction.text import CountVectorizer"
   ]
  },
  {
   "cell_type": "code",
   "execution_count": 27,
   "id": "bf38e7e8",
   "metadata": {
    "execution": {
     "iopub.execute_input": "2022-05-29T17:41:41.740215Z",
     "iopub.status.busy": "2022-05-29T17:41:41.739805Z",
     "iopub.status.idle": "2022-05-29T17:41:41.744061Z",
     "shell.execute_reply": "2022-05-29T17:41:41.743219Z"
    },
    "papermill": {
     "duration": 0.020073,
     "end_time": "2022-05-29T17:41:41.745853",
     "exception": false,
     "start_time": "2022-05-29T17:41:41.725780",
     "status": "completed"
    },
    "tags": []
   },
   "outputs": [],
   "source": [
    "cv = CountVectorizer(max_features=5000,stop_words='english')"
   ]
  },
  {
   "cell_type": "code",
   "execution_count": 28,
   "id": "56caf738",
   "metadata": {
    "execution": {
     "iopub.execute_input": "2022-05-29T17:41:41.773504Z",
     "iopub.status.busy": "2022-05-29T17:41:41.772587Z",
     "iopub.status.idle": "2022-05-29T17:41:42.664855Z",
     "shell.execute_reply": "2022-05-29T17:41:42.663850Z"
    },
    "papermill": {
     "duration": 0.908348,
     "end_time": "2022-05-29T17:41:42.667152",
     "exception": false,
     "start_time": "2022-05-29T17:41:41.758804",
     "status": "completed"
    },
    "tags": []
   },
   "outputs": [],
   "source": [
    "vectors = cv.fit_transform(new_df['tags']).toarray()"
   ]
  },
  {
   "cell_type": "code",
   "execution_count": 29,
   "id": "6d37195b",
   "metadata": {
    "execution": {
     "iopub.execute_input": "2022-05-29T17:41:42.695628Z",
     "iopub.status.busy": "2022-05-29T17:41:42.694637Z",
     "iopub.status.idle": "2022-05-29T17:41:43.197771Z",
     "shell.execute_reply": "2022-05-29T17:41:43.197112Z"
    },
    "papermill": {
     "duration": 0.519411,
     "end_time": "2022-05-29T17:41:43.199914",
     "exception": false,
     "start_time": "2022-05-29T17:41:42.680503",
     "status": "completed"
    },
    "tags": []
   },
   "outputs": [],
   "source": [
    "#Stemming Process\n",
    "import nltk"
   ]
  },
  {
   "cell_type": "code",
   "execution_count": 30,
   "id": "2d3f7725",
   "metadata": {
    "execution": {
     "iopub.execute_input": "2022-05-29T17:41:43.228423Z",
     "iopub.status.busy": "2022-05-29T17:41:43.227928Z",
     "iopub.status.idle": "2022-05-29T17:41:43.231326Z",
     "shell.execute_reply": "2022-05-29T17:41:43.230798Z"
    },
    "papermill": {
     "duration": 0.019508,
     "end_time": "2022-05-29T17:41:43.232904",
     "exception": false,
     "start_time": "2022-05-29T17:41:43.213396",
     "status": "completed"
    },
    "tags": []
   },
   "outputs": [],
   "source": [
    "from nltk.stem.porter import PorterStemmer\n",
    "ps = PorterStemmer()"
   ]
  },
  {
   "cell_type": "code",
   "execution_count": 31,
   "id": "05e952fc",
   "metadata": {
    "execution": {
     "iopub.execute_input": "2022-05-29T17:41:43.260311Z",
     "iopub.status.busy": "2022-05-29T17:41:43.259599Z",
     "iopub.status.idle": "2022-05-29T17:41:43.264535Z",
     "shell.execute_reply": "2022-05-29T17:41:43.263950Z"
    },
    "papermill": {
     "duration": 0.020422,
     "end_time": "2022-05-29T17:41:43.266245",
     "exception": false,
     "start_time": "2022-05-29T17:41:43.245823",
     "status": "completed"
    },
    "tags": []
   },
   "outputs": [],
   "source": [
    "#here we are defining the stemming function\n",
    "def stem(text):\n",
    "    y=[]\n",
    "    for i in text.split():\n",
    "        y.append(ps.stem(i))\n",
    "    \n",
    "    return \" \".join(y)"
   ]
  },
  {
   "cell_type": "code",
   "execution_count": 32,
   "id": "118f59a7",
   "metadata": {
    "execution": {
     "iopub.execute_input": "2022-05-29T17:41:43.294257Z",
     "iopub.status.busy": "2022-05-29T17:41:43.293664Z",
     "iopub.status.idle": "2022-05-29T17:42:01.962746Z",
     "shell.execute_reply": "2022-05-29T17:42:01.961545Z"
    },
    "papermill": {
     "duration": 18.685797,
     "end_time": "2022-05-29T17:42:01.965050",
     "exception": false,
     "start_time": "2022-05-29T17:41:43.279253",
     "status": "completed"
    },
    "tags": []
   },
   "outputs": [
    {
     "name": "stderr",
     "output_type": "stream",
     "text": [
      "/opt/conda/lib/python3.7/site-packages/ipykernel_launcher.py:1: SettingWithCopyWarning: \n",
      "A value is trying to be set on a copy of a slice from a DataFrame.\n",
      "Try using .loc[row_indexer,col_indexer] = value instead\n",
      "\n",
      "See the caveats in the documentation: https://pandas.pydata.org/pandas-docs/stable/user_guide/indexing.html#returning-a-view-versus-a-copy\n",
      "  \"\"\"Entry point for launching an IPython kernel.\n"
     ]
    }
   ],
   "source": [
    "new_df['tags'] = new_df['tags'].apply(stem) #applying stemming on the tags column\n"
   ]
  },
  {
   "cell_type": "code",
   "execution_count": 33,
   "id": "9e082e6f",
   "metadata": {
    "execution": {
     "iopub.execute_input": "2022-05-29T17:42:01.993923Z",
     "iopub.status.busy": "2022-05-29T17:42:01.993568Z",
     "iopub.status.idle": "2022-05-29T17:42:01.997570Z",
     "shell.execute_reply": "2022-05-29T17:42:01.996662Z"
    },
    "papermill": {
     "duration": 0.020935,
     "end_time": "2022-05-29T17:42:01.999442",
     "exception": false,
     "start_time": "2022-05-29T17:42:01.978507",
     "status": "completed"
    },
    "tags": []
   },
   "outputs": [],
   "source": [
    "from sklearn.metrics.pairwise import cosine_similarity"
   ]
  },
  {
   "cell_type": "code",
   "execution_count": 34,
   "id": "e5a385da",
   "metadata": {
    "execution": {
     "iopub.execute_input": "2022-05-29T17:42:02.026852Z",
     "iopub.status.busy": "2022-05-29T17:42:02.026338Z",
     "iopub.status.idle": "2022-05-29T17:42:03.265351Z",
     "shell.execute_reply": "2022-05-29T17:42:03.264256Z"
    },
    "papermill": {
     "duration": 1.256163,
     "end_time": "2022-05-29T17:42:03.268614",
     "exception": false,
     "start_time": "2022-05-29T17:42:02.012451",
     "status": "completed"
    },
    "tags": []
   },
   "outputs": [],
   "source": [
    "similarity = cosine_similarity(vectors)"
   ]
  },
  {
   "cell_type": "code",
   "execution_count": 35,
   "id": "1f7660ff",
   "metadata": {
    "execution": {
     "iopub.execute_input": "2022-05-29T17:42:03.320231Z",
     "iopub.status.busy": "2022-05-29T17:42:03.319595Z",
     "iopub.status.idle": "2022-05-29T17:42:03.329770Z",
     "shell.execute_reply": "2022-05-29T17:42:03.328859Z"
    },
    "papermill": {
     "duration": 0.038124,
     "end_time": "2022-05-29T17:42:03.331595",
     "exception": false,
     "start_time": "2022-05-29T17:42:03.293471",
     "status": "completed"
    },
    "tags": []
   },
   "outputs": [],
   "source": [
    "#Recommendation Function\n",
    "def recommend_course(course):\n",
    "    course_index = new_df[new_df['course_name'] == course].index[0]\n",
    "    distances = similarity[course_index]\n",
    "    course_list = sorted(list(enumerate(distances)),reverse=True, key=lambda x:x[1])[1:7]\n",
    "    \n",
    "    for i in course_list:\n",
    "        print(new_df.iloc[i[0]].course_name)"
   ]
  },
  {
   "cell_type": "code",
   "execution_count": 36,
   "id": "aad4bcbf",
   "metadata": {
    "execution": {
     "iopub.execute_input": "2022-05-29T17:42:03.359546Z",
     "iopub.status.busy": "2022-05-29T17:42:03.358986Z",
     "iopub.status.idle": "2022-05-29T17:42:03.371667Z",
     "shell.execute_reply": "2022-05-29T17:42:03.370720Z"
    },
    "papermill": {
     "duration": 0.029374,
     "end_time": "2022-05-29T17:42:03.374078",
     "exception": false,
     "start_time": "2022-05-29T17:42:03.344704",
     "status": "completed"
    },
    "tags": []
   },
   "outputs": [
    {
     "name": "stdout",
     "output_type": "stream",
     "text": [
      "Product Development Customer Persona Development with Miro\n",
      "Innovating with the Business Model Canvas\n",
      "Product and Service Development Empathy Mapping with Miro\n",
      "Product Development Customer Journey Mapping with Miro\n",
      "Business Strategy in Practice (Project-centered Course)\n",
      "Foundations of Business Strategy\n"
     ]
    }
   ],
   "source": [
    "recommend_course('Business Strategy Business Model Canvas Analysis with Miro') "
   ]
  }
 ],
 "metadata": {
  "kernelspec": {
   "display_name": "Python 3",
   "language": "python",
   "name": "python3"
  },
  "language_info": {
   "codemirror_mode": {
    "name": "ipython",
    "version": 3
   },
   "file_extension": ".py",
   "mimetype": "text/x-python",
   "name": "python",
   "nbconvert_exporter": "python",
   "pygments_lexer": "ipython3",
   "version": "3.7.12"
  },
  "papermill": {
   "default_parameters": {},
   "duration": 33.973959,
   "end_time": "2022-05-29T17:42:04.108268",
   "environment_variables": {},
   "exception": null,
   "input_path": "__notebook__.ipynb",
   "output_path": "__notebook__.ipynb",
   "parameters": {},
   "start_time": "2022-05-29T17:41:30.134309",
   "version": "2.3.4"
  }
 },
 "nbformat": 4,
 "nbformat_minor": 5
}
